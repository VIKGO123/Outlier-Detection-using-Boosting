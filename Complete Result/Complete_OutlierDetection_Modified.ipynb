{
  "nbformat": 4,
  "nbformat_minor": 0,
  "metadata": {
    "colab": {
      "name": "Complete OutlierDetection Modified.ipynb",
      "version": "0.3.2",
      "provenance": [],
      "collapsed_sections": []
    },
    "kernelspec": {
      "name": "python3",
      "display_name": "Python 3"
    },
    "accelerator": "GPU"
  },
  "cells": [
    {
      "cell_type": "code",
      "metadata": {
        "id": "YwAzeWLeP5-C",
        "colab_type": "code",
        "outputId": "f89429f6-b838-4af1-95eb-69839bf43e38",
        "colab": {
          "base_uri": "https://localhost:8080/",
          "height": 122
        }
      },
      "source": [
        "from google.colab import drive\n",
        "drive.mount('/content/gdrive')  #Mounting google drive"
      ],
      "execution_count": 1,
      "outputs": [
        {
          "output_type": "stream",
          "text": [
            "Go to this URL in a browser: https://accounts.google.com/o/oauth2/auth?client_id=947318989803-6bn6qk8qdgf4n4g3pfee6491hc0brc4i.apps.googleusercontent.com&redirect_uri=urn%3Aietf%3Awg%3Aoauth%3A2.0%3Aoob&scope=email%20https%3A%2F%2Fwww.googleapis.com%2Fauth%2Fdocs.test%20https%3A%2F%2Fwww.googleapis.com%2Fauth%2Fdrive%20https%3A%2F%2Fwww.googleapis.com%2Fauth%2Fdrive.photos.readonly%20https%3A%2F%2Fwww.googleapis.com%2Fauth%2Fpeopleapi.readonly&response_type=code\n",
            "\n",
            "Enter your authorization code:\n",
            "··········\n",
            "Mounted at /content/gdrive\n"
          ],
          "name": "stdout"
        }
      ]
    },
    {
      "cell_type": "code",
      "metadata": {
        "id": "NSS2XOpORK8n",
        "colab_type": "code",
        "colab": {}
      },
      "source": [
        "import numpy as np\n",
        "import pandas as pd  #importing libraries"
      ],
      "execution_count": 0,
      "outputs": []
    },
    {
      "cell_type": "markdown",
      "metadata": {
        "id": "OYKDr3rBM5ua",
        "colab_type": "text"
      },
      "source": [
        "----------------------------------------------------------------------------\n",
        "**Creating dataframe from Phase2 Dataset**\n",
        "\n",
        "----------------------------------------------------------------------------"
      ]
    },
    {
      "cell_type": "code",
      "metadata": {
        "id": "eA8GvEOpa-mG",
        "colab_type": "code",
        "colab": {}
      },
      "source": [
        "Data = pd.read_excel(\"gdrive/My Drive/ml_hack/IndiaMart/Hackathon Price data31696da (3).xlsx\", sheet_name=0)#reading excel file sheet0"
      ],
      "execution_count": 0,
      "outputs": []
    },
    {
      "cell_type": "code",
      "metadata": {
        "id": "hTDB6rhAVDql",
        "colab_type": "code",
        "colab": {}
      },
      "source": [
        "#dropping rows having null values\n",
        "data=Data.dropna()"
      ],
      "execution_count": 0,
      "outputs": []
    },
    {
      "cell_type": "code",
      "metadata": {
        "id": "vgZ0pmKYf0ER",
        "colab_type": "code",
        "outputId": "0b0abe9c-ed0b-4cea-87ca-b775c220875c",
        "colab": {
          "base_uri": "https://localhost:8080/",
          "height": 1000
        }
      },
      "source": [
        "data"
      ],
      "execution_count": 0,
      "outputs": [
        {
          "output_type": "execute_result",
          "data": {
            "text/html": [
              "<div>\n",
              "<style scoped>\n",
              "    .dataframe tbody tr th:only-of-type {\n",
              "        vertical-align: middle;\n",
              "    }\n",
              "\n",
              "    .dataframe tbody tr th {\n",
              "        vertical-align: top;\n",
              "    }\n",
              "\n",
              "    .dataframe thead th {\n",
              "        text-align: right;\n",
              "    }\n",
              "</style>\n",
              "<table border=\"1\" class=\"dataframe\">\n",
              "  <thead>\n",
              "    <tr style=\"text-align: right;\">\n",
              "      <th></th>\n",
              "      <th>Mcat Name</th>\n",
              "      <th>Subcat name</th>\n",
              "      <th>PC_ITEM_ID</th>\n",
              "      <th>PC_ITEM_NAME</th>\n",
              "      <th>FK_IM_SPEC_MASTER_DESC</th>\n",
              "      <th>FK_IM_SPEC_OPTIONS_DESC</th>\n",
              "      <th>PC_ITEM_FOB_PRICE</th>\n",
              "      <th>PC_ITEM_MOQ_UNIT_TYPE</th>\n",
              "    </tr>\n",
              "  </thead>\n",
              "  <tbody>\n",
              "    <tr>\n",
              "      <th>0</th>\n",
              "      <td>HMI Touch Panel</td>\n",
              "      <td>AC Drives, Recorders, Instrumentation Equipmen...</td>\n",
              "      <td>1</td>\n",
              "      <td>Touch Panel</td>\n",
              "      <td>Display Size</td>\n",
              "      <td>15.6\"  to 80 \"</td>\n",
              "      <td>5500.0</td>\n",
              "      <td>Piece</td>\n",
              "    </tr>\n",
              "    <tr>\n",
              "      <th>1</th>\n",
              "      <td>HMI Touch Panel</td>\n",
              "      <td>AC Drives, Recorders, Instrumentation Equipmen...</td>\n",
              "      <td>2</td>\n",
              "      <td>Human Machine Interface</td>\n",
              "      <td>Type</td>\n",
              "      <td>Fully Automatic</td>\n",
              "      <td>4500.0</td>\n",
              "      <td>Unit</td>\n",
              "    </tr>\n",
              "    <tr>\n",
              "      <th>2</th>\n",
              "      <td>HMI Touch Panel</td>\n",
              "      <td>AC Drives, Recorders, Instrumentation Equipmen...</td>\n",
              "      <td>3</td>\n",
              "      <td>Mitsubishi HMI</td>\n",
              "      <td>Display Type</td>\n",
              "      <td>TFT</td>\n",
              "      <td>12000.0</td>\n",
              "      <td>Unit</td>\n",
              "    </tr>\n",
              "    <tr>\n",
              "      <th>3</th>\n",
              "      <td>HMI Touch Panel</td>\n",
              "      <td>AC Drives, Recorders, Instrumentation Equipmen...</td>\n",
              "      <td>3</td>\n",
              "      <td>Mitsubishi HMI</td>\n",
              "      <td>Model Number/Name</td>\n",
              "      <td>GOT</td>\n",
              "      <td>12000.0</td>\n",
              "      <td>Unit</td>\n",
              "    </tr>\n",
              "    <tr>\n",
              "      <th>4</th>\n",
              "      <td>HMI Touch Panel</td>\n",
              "      <td>AC Drives, Recorders, Instrumentation Equipmen...</td>\n",
              "      <td>3</td>\n",
              "      <td>Mitsubishi HMI</td>\n",
              "      <td>Product Type</td>\n",
              "      <td>HMI</td>\n",
              "      <td>12000.0</td>\n",
              "      <td>Unit</td>\n",
              "    </tr>\n",
              "    <tr>\n",
              "      <th>5</th>\n",
              "      <td>HMI Touch Panel</td>\n",
              "      <td>AC Drives, Recorders, Instrumentation Equipmen...</td>\n",
              "      <td>3</td>\n",
              "      <td>Mitsubishi HMI</td>\n",
              "      <td>Brand</td>\n",
              "      <td>Mitsubishi</td>\n",
              "      <td>12000.0</td>\n",
              "      <td>Unit</td>\n",
              "    </tr>\n",
              "    <tr>\n",
              "      <th>6</th>\n",
              "      <td>HMI Touch Panel</td>\n",
              "      <td>AC Drives, Recorders, Instrumentation Equipmen...</td>\n",
              "      <td>3</td>\n",
              "      <td>Mitsubishi HMI</td>\n",
              "      <td>Size</td>\n",
              "      <td>5',7.5',10,15</td>\n",
              "      <td>12000.0</td>\n",
              "      <td>Unit</td>\n",
              "    </tr>\n",
              "    <tr>\n",
              "      <th>7</th>\n",
              "      <td>HMI Touch Panel</td>\n",
              "      <td>AC Drives, Recorders, Instrumentation Equipmen...</td>\n",
              "      <td>3</td>\n",
              "      <td>Mitsubishi HMI</td>\n",
              "      <td>Screen Size</td>\n",
              "      <td>5,7,10,15</td>\n",
              "      <td>12000.0</td>\n",
              "      <td>Unit</td>\n",
              "    </tr>\n",
              "    <tr>\n",
              "      <th>8</th>\n",
              "      <td>HMI Touch Panel</td>\n",
              "      <td>AC Drives, Recorders, Instrumentation Equipmen...</td>\n",
              "      <td>4</td>\n",
              "      <td>HMI Touch Panels</td>\n",
              "      <td>Display Type</td>\n",
              "      <td>Digital</td>\n",
              "      <td>10000.0</td>\n",
              "      <td>Unit</td>\n",
              "    </tr>\n",
              "    <tr>\n",
              "      <th>9</th>\n",
              "      <td>HMI Touch Panel</td>\n",
              "      <td>AC Drives, Recorders, Instrumentation Equipmen...</td>\n",
              "      <td>4</td>\n",
              "      <td>HMI Touch Panels</td>\n",
              "      <td>Type</td>\n",
              "      <td>Fully Automatic</td>\n",
              "      <td>10000.0</td>\n",
              "      <td>Unit</td>\n",
              "    </tr>\n",
              "    <tr>\n",
              "      <th>10</th>\n",
              "      <td>HMI Touch Panel</td>\n",
              "      <td>AC Drives, Recorders, Instrumentation Equipmen...</td>\n",
              "      <td>4</td>\n",
              "      <td>HMI Touch Panels</td>\n",
              "      <td>Operating System</td>\n",
              "      <td>Windows 8</td>\n",
              "      <td>10000.0</td>\n",
              "      <td>Unit</td>\n",
              "    </tr>\n",
              "    <tr>\n",
              "      <th>11</th>\n",
              "      <td>HMI Touch Panel</td>\n",
              "      <td>AC Drives, Recorders, Instrumentation Equipmen...</td>\n",
              "      <td>4</td>\n",
              "      <td>HMI Touch Panels</td>\n",
              "      <td>Power</td>\n",
              "      <td>240 V</td>\n",
              "      <td>10000.0</td>\n",
              "      <td>Unit</td>\n",
              "    </tr>\n",
              "    <tr>\n",
              "      <th>12</th>\n",
              "      <td>HMI Touch Panel</td>\n",
              "      <td>AC Drives, Recorders, Instrumentation Equipmen...</td>\n",
              "      <td>5</td>\n",
              "      <td>Human Machine Interface</td>\n",
              "      <td>Application</td>\n",
              "      <td>Laboratory</td>\n",
              "      <td>14000.0</td>\n",
              "      <td>Unit</td>\n",
              "    </tr>\n",
              "    <tr>\n",
              "      <th>13</th>\n",
              "      <td>HMI Touch Panel</td>\n",
              "      <td>AC Drives, Recorders, Instrumentation Equipmen...</td>\n",
              "      <td>5</td>\n",
              "      <td>Human Machine Interface</td>\n",
              "      <td>Type</td>\n",
              "      <td>Fully Automatic</td>\n",
              "      <td>14000.0</td>\n",
              "      <td>Unit</td>\n",
              "    </tr>\n",
              "    <tr>\n",
              "      <th>14</th>\n",
              "      <td>HMI Touch Panel</td>\n",
              "      <td>AC Drives, Recorders, Instrumentation Equipmen...</td>\n",
              "      <td>6</td>\n",
              "      <td>Human Machine Interface</td>\n",
              "      <td>Display Type</td>\n",
              "      <td>LCD</td>\n",
              "      <td>14175.0</td>\n",
              "      <td>Piece</td>\n",
              "    </tr>\n",
              "    <tr>\n",
              "      <th>15</th>\n",
              "      <td>HMI Touch Panel</td>\n",
              "      <td>AC Drives, Recorders, Instrumentation Equipmen...</td>\n",
              "      <td>7</td>\n",
              "      <td>Proface HMI Touch Panel</td>\n",
              "      <td>Brand</td>\n",
              "      <td>PROFACE</td>\n",
              "      <td>5000.0</td>\n",
              "      <td>Unit</td>\n",
              "    </tr>\n",
              "    <tr>\n",
              "      <th>16</th>\n",
              "      <td>HMI Touch Panel</td>\n",
              "      <td>AC Drives, Recorders, Instrumentation Equipmen...</td>\n",
              "      <td>7</td>\n",
              "      <td>Proface HMI Touch Panel</td>\n",
              "      <td>Application</td>\n",
              "      <td>HMI</td>\n",
              "      <td>5000.0</td>\n",
              "      <td>Unit</td>\n",
              "    </tr>\n",
              "    <tr>\n",
              "      <th>17</th>\n",
              "      <td>HMI Touch Panel</td>\n",
              "      <td>AC Drives, Recorders, Instrumentation Equipmen...</td>\n",
              "      <td>7</td>\n",
              "      <td>Proface HMI Touch Panel</td>\n",
              "      <td>Model</td>\n",
              "      <td>PROFACE</td>\n",
              "      <td>5000.0</td>\n",
              "      <td>Unit</td>\n",
              "    </tr>\n",
              "    <tr>\n",
              "      <th>18</th>\n",
              "      <td>HMI Touch Panel</td>\n",
              "      <td>AC Drives, Recorders, Instrumentation Equipmen...</td>\n",
              "      <td>8</td>\n",
              "      <td>Siemens HMI &amp; Displays</td>\n",
              "      <td>Screen Type</td>\n",
              "      <td>KEYPAD + TOUCH</td>\n",
              "      <td>10000.0</td>\n",
              "      <td>PER PIECE</td>\n",
              "    </tr>\n",
              "    <tr>\n",
              "      <th>19</th>\n",
              "      <td>HMI Touch Panel</td>\n",
              "      <td>AC Drives, Recorders, Instrumentation Equipmen...</td>\n",
              "      <td>8</td>\n",
              "      <td>Siemens HMI &amp; Displays</td>\n",
              "      <td>Type</td>\n",
              "      <td>Manual</td>\n",
              "      <td>10000.0</td>\n",
              "      <td>PER PIECE</td>\n",
              "    </tr>\n",
              "    <tr>\n",
              "      <th>20</th>\n",
              "      <td>HMI Touch Panel</td>\n",
              "      <td>AC Drives, Recorders, Instrumentation Equipmen...</td>\n",
              "      <td>8</td>\n",
              "      <td>Siemens HMI &amp; Displays</td>\n",
              "      <td>Type</td>\n",
              "      <td>Fully Automatic</td>\n",
              "      <td>10000.0</td>\n",
              "      <td>PER PIECE</td>\n",
              "    </tr>\n",
              "    <tr>\n",
              "      <th>21</th>\n",
              "      <td>HMI Touch Panel</td>\n",
              "      <td>AC Drives, Recorders, Instrumentation Equipmen...</td>\n",
              "      <td>8</td>\n",
              "      <td>Siemens HMI &amp; Displays</td>\n",
              "      <td>Brand</td>\n",
              "      <td>SIEMENS</td>\n",
              "      <td>10000.0</td>\n",
              "      <td>PER PIECE</td>\n",
              "    </tr>\n",
              "    <tr>\n",
              "      <th>22</th>\n",
              "      <td>HMI Touch Panel</td>\n",
              "      <td>AC Drives, Recorders, Instrumentation Equipmen...</td>\n",
              "      <td>8</td>\n",
              "      <td>Siemens HMI &amp; Displays</td>\n",
              "      <td>Display Type</td>\n",
              "      <td>TFT</td>\n",
              "      <td>10000.0</td>\n",
              "      <td>PER PIECE</td>\n",
              "    </tr>\n",
              "    <tr>\n",
              "      <th>23</th>\n",
              "      <td>HMI Touch Panel</td>\n",
              "      <td>AC Drives, Recorders, Instrumentation Equipmen...</td>\n",
              "      <td>9</td>\n",
              "      <td>Touch Screen HMI</td>\n",
              "      <td>Brand</td>\n",
              "      <td>Other</td>\n",
              "      <td>9500.0</td>\n",
              "      <td>Piece</td>\n",
              "    </tr>\n",
              "    <tr>\n",
              "      <th>24</th>\n",
              "      <td>HMI Touch Panel</td>\n",
              "      <td>AC Drives, Recorders, Instrumentation Equipmen...</td>\n",
              "      <td>9</td>\n",
              "      <td>Touch Screen HMI</td>\n",
              "      <td>Power</td>\n",
              "      <td>5w</td>\n",
              "      <td>9500.0</td>\n",
              "      <td>Piece</td>\n",
              "    </tr>\n",
              "    <tr>\n",
              "      <th>25</th>\n",
              "      <td>HMI Touch Panel</td>\n",
              "      <td>AC Drives, Recorders, Instrumentation Equipmen...</td>\n",
              "      <td>10</td>\n",
              "      <td>Schneider Electric HMI Touch Panel</td>\n",
              "      <td>Model</td>\n",
              "      <td>Latest</td>\n",
              "      <td>25000.0</td>\n",
              "      <td>Piece</td>\n",
              "    </tr>\n",
              "    <tr>\n",
              "      <th>26</th>\n",
              "      <td>HMI Touch Panel</td>\n",
              "      <td>AC Drives, Recorders, Instrumentation Equipmen...</td>\n",
              "      <td>10</td>\n",
              "      <td>Schneider Electric HMI Touch Panel</td>\n",
              "      <td>Product Type</td>\n",
              "      <td>Touch panel</td>\n",
              "      <td>25000.0</td>\n",
              "      <td>Piece</td>\n",
              "    </tr>\n",
              "    <tr>\n",
              "      <th>27</th>\n",
              "      <td>HMI Touch Panel</td>\n",
              "      <td>AC Drives, Recorders, Instrumentation Equipmen...</td>\n",
              "      <td>10</td>\n",
              "      <td>Schneider Electric HMI Touch Panel</td>\n",
              "      <td>Brand</td>\n",
              "      <td>Schneider</td>\n",
              "      <td>25000.0</td>\n",
              "      <td>Piece</td>\n",
              "    </tr>\n",
              "    <tr>\n",
              "      <th>28</th>\n",
              "      <td>HMI Touch Panel</td>\n",
              "      <td>AC Drives, Recorders, Instrumentation Equipmen...</td>\n",
              "      <td>10</td>\n",
              "      <td>Schneider Electric HMI Touch Panel</td>\n",
              "      <td>Brightness</td>\n",
              "      <td>Yes</td>\n",
              "      <td>25000.0</td>\n",
              "      <td>Piece</td>\n",
              "    </tr>\n",
              "    <tr>\n",
              "      <th>29</th>\n",
              "      <td>HMI Touch Panel</td>\n",
              "      <td>AC Drives, Recorders, Instrumentation Equipmen...</td>\n",
              "      <td>11</td>\n",
              "      <td>Human Machine Interface</td>\n",
              "      <td>Brand</td>\n",
              "      <td>Delta</td>\n",
              "      <td>14000.0</td>\n",
              "      <td>Unit</td>\n",
              "    </tr>\n",
              "    <tr>\n",
              "      <th>...</th>\n",
              "      <td>...</td>\n",
              "      <td>...</td>\n",
              "      <td>...</td>\n",
              "      <td>...</td>\n",
              "      <td>...</td>\n",
              "      <td>...</td>\n",
              "      <td>...</td>\n",
              "      <td>...</td>\n",
              "    </tr>\n",
              "    <tr>\n",
              "      <th>27342</th>\n",
              "      <td>Eco Friendly Disposable Plates</td>\n",
              "      <td>Paper Plate, Cups, Trays, Disposable Glasses, ...</td>\n",
              "      <td>9385</td>\n",
              "      <td>10 Inch Biodegradable Cornstarch Plate</td>\n",
              "      <td>Shape</td>\n",
              "      <td>Round</td>\n",
              "      <td>6.3</td>\n",
              "      <td>Piece</td>\n",
              "    </tr>\n",
              "    <tr>\n",
              "      <th>27343</th>\n",
              "      <td>Eco Friendly Disposable Plates</td>\n",
              "      <td>Paper Plate, Cups, Trays, Disposable Glasses, ...</td>\n",
              "      <td>9386</td>\n",
              "      <td>Natural Palm Leaf Dona Plate Set</td>\n",
              "      <td>Size</td>\n",
              "      <td>3-10 Inch (Diameter)</td>\n",
              "      <td>1.0</td>\n",
              "      <td>Piece</td>\n",
              "    </tr>\n",
              "    <tr>\n",
              "      <th>27344</th>\n",
              "      <td>Eco Friendly Disposable Plates</td>\n",
              "      <td>Paper Plate, Cups, Trays, Disposable Glasses, ...</td>\n",
              "      <td>9386</td>\n",
              "      <td>Natural Palm Leaf Dona Plate Set</td>\n",
              "      <td>Shape</td>\n",
              "      <td>Round</td>\n",
              "      <td>1.0</td>\n",
              "      <td>Piece</td>\n",
              "    </tr>\n",
              "    <tr>\n",
              "      <th>27345</th>\n",
              "      <td>Eco Friendly Disposable Plates</td>\n",
              "      <td>Paper Plate, Cups, Trays, Disposable Glasses, ...</td>\n",
              "      <td>9386</td>\n",
              "      <td>Natural Palm Leaf Dona Plate Set</td>\n",
              "      <td>Usage/Application</td>\n",
              "      <td>Event and Party Supplies</td>\n",
              "      <td>1.0</td>\n",
              "      <td>Piece</td>\n",
              "    </tr>\n",
              "    <tr>\n",
              "      <th>27346</th>\n",
              "      <td>Eco Friendly Disposable Plates</td>\n",
              "      <td>Paper Plate, Cups, Trays, Disposable Glasses, ...</td>\n",
              "      <td>9387</td>\n",
              "      <td>Disposable Plate</td>\n",
              "      <td>Material</td>\n",
              "      <td>Leaf</td>\n",
              "      <td>15.4</td>\n",
              "      <td>Piece</td>\n",
              "    </tr>\n",
              "    <tr>\n",
              "      <th>27347</th>\n",
              "      <td>Eco Friendly Disposable Plates</td>\n",
              "      <td>Paper Plate, Cups, Trays, Disposable Glasses, ...</td>\n",
              "      <td>9387</td>\n",
              "      <td>Disposable Plate</td>\n",
              "      <td>Size</td>\n",
              "      <td>12,10,8,6,4</td>\n",
              "      <td>15.4</td>\n",
              "      <td>Piece</td>\n",
              "    </tr>\n",
              "    <tr>\n",
              "      <th>27348</th>\n",
              "      <td>Eco Friendly Disposable Plates</td>\n",
              "      <td>Paper Plate, Cups, Trays, Disposable Glasses, ...</td>\n",
              "      <td>9387</td>\n",
              "      <td>Disposable Plate</td>\n",
              "      <td>Color</td>\n",
              "      <td>Brown &amp; whight</td>\n",
              "      <td>15.4</td>\n",
              "      <td>Piece</td>\n",
              "    </tr>\n",
              "    <tr>\n",
              "      <th>27349</th>\n",
              "      <td>Eco Friendly Disposable Plates</td>\n",
              "      <td>Paper Plate, Cups, Trays, Disposable Glasses, ...</td>\n",
              "      <td>9387</td>\n",
              "      <td>Disposable Plate</td>\n",
              "      <td>Brand</td>\n",
              "      <td>GM GREEN NATURALARECA PLATES</td>\n",
              "      <td>15.4</td>\n",
              "      <td>Piece</td>\n",
              "    </tr>\n",
              "    <tr>\n",
              "      <th>27350</th>\n",
              "      <td>Eco Friendly Disposable Plates</td>\n",
              "      <td>Paper Plate, Cups, Trays, Disposable Glasses, ...</td>\n",
              "      <td>9387</td>\n",
              "      <td>Disposable Plate</td>\n",
              "      <td>Quantity Per Pack</td>\n",
              "      <td>50</td>\n",
              "      <td>15.4</td>\n",
              "      <td>Piece</td>\n",
              "    </tr>\n",
              "    <tr>\n",
              "      <th>27351</th>\n",
              "      <td>Eco Friendly Disposable Plates</td>\n",
              "      <td>Paper Plate, Cups, Trays, Disposable Glasses, ...</td>\n",
              "      <td>9388</td>\n",
              "      <td>Eco Friendly Designer Paper Plate</td>\n",
              "      <td>Size</td>\n",
              "      <td>6 Inch-14 Inch</td>\n",
              "      <td>25.0</td>\n",
              "      <td>Packet</td>\n",
              "    </tr>\n",
              "    <tr>\n",
              "      <th>27352</th>\n",
              "      <td>Eco Friendly Disposable Plates</td>\n",
              "      <td>Paper Plate, Cups, Trays, Disposable Glasses, ...</td>\n",
              "      <td>9388</td>\n",
              "      <td>Eco Friendly Designer Paper Plate</td>\n",
              "      <td>Pattern</td>\n",
              "      <td>Plain</td>\n",
              "      <td>25.0</td>\n",
              "      <td>Packet</td>\n",
              "    </tr>\n",
              "    <tr>\n",
              "      <th>27353</th>\n",
              "      <td>Eco Friendly Disposable Plates</td>\n",
              "      <td>Paper Plate, Cups, Trays, Disposable Glasses, ...</td>\n",
              "      <td>9388</td>\n",
              "      <td>Eco Friendly Designer Paper Plate</td>\n",
              "      <td>Paper Gsm</td>\n",
              "      <td>120-450 gsm</td>\n",
              "      <td>25.0</td>\n",
              "      <td>Packet</td>\n",
              "    </tr>\n",
              "    <tr>\n",
              "      <th>27354</th>\n",
              "      <td>Eco Friendly Disposable Plates</td>\n",
              "      <td>Paper Plate, Cups, Trays, Disposable Glasses, ...</td>\n",
              "      <td>9389</td>\n",
              "      <td>7 Inch Disposable Plate</td>\n",
              "      <td>Type</td>\n",
              "      <td>MOULDED</td>\n",
              "      <td>2.0</td>\n",
              "      <td>Piece</td>\n",
              "    </tr>\n",
              "    <tr>\n",
              "      <th>27355</th>\n",
              "      <td>Eco Friendly Disposable Plates</td>\n",
              "      <td>Paper Plate, Cups, Trays, Disposable Glasses, ...</td>\n",
              "      <td>9389</td>\n",
              "      <td>7 Inch Disposable Plate</td>\n",
              "      <td>Size</td>\n",
              "      <td>7 INCH</td>\n",
              "      <td>2.0</td>\n",
              "      <td>Piece</td>\n",
              "    </tr>\n",
              "    <tr>\n",
              "      <th>27356</th>\n",
              "      <td>Eco Friendly Disposable Plates</td>\n",
              "      <td>Paper Plate, Cups, Trays, Disposable Glasses, ...</td>\n",
              "      <td>9389</td>\n",
              "      <td>7 Inch Disposable Plate</td>\n",
              "      <td>Place Of Origin</td>\n",
              "      <td>CHENNAI</td>\n",
              "      <td>2.0</td>\n",
              "      <td>Piece</td>\n",
              "    </tr>\n",
              "    <tr>\n",
              "      <th>27357</th>\n",
              "      <td>Eco Friendly Disposable Plates</td>\n",
              "      <td>Paper Plate, Cups, Trays, Disposable Glasses, ...</td>\n",
              "      <td>9389</td>\n",
              "      <td>7 Inch Disposable Plate</td>\n",
              "      <td>Weight</td>\n",
              "      <td>150</td>\n",
              "      <td>2.0</td>\n",
              "      <td>Piece</td>\n",
              "    </tr>\n",
              "    <tr>\n",
              "      <th>27358</th>\n",
              "      <td>Eco Friendly Disposable Plates</td>\n",
              "      <td>Paper Plate, Cups, Trays, Disposable Glasses, ...</td>\n",
              "      <td>9389</td>\n",
              "      <td>7 Inch Disposable Plate</td>\n",
              "      <td>Usage/Application</td>\n",
              "      <td>DISPOSABLE</td>\n",
              "      <td>2.0</td>\n",
              "      <td>Piece</td>\n",
              "    </tr>\n",
              "    <tr>\n",
              "      <th>27359</th>\n",
              "      <td>Eco Friendly Disposable Plates</td>\n",
              "      <td>Paper Plate, Cups, Trays, Disposable Glasses, ...</td>\n",
              "      <td>9389</td>\n",
              "      <td>7 Inch Disposable Plate</td>\n",
              "      <td>Material</td>\n",
              "      <td>CLAY</td>\n",
              "      <td>2.0</td>\n",
              "      <td>Piece</td>\n",
              "    </tr>\n",
              "    <tr>\n",
              "      <th>27360</th>\n",
              "      <td>Eco Friendly Disposable Plates</td>\n",
              "      <td>Paper Plate, Cups, Trays, Disposable Glasses, ...</td>\n",
              "      <td>9390</td>\n",
              "      <td>Disposable Plate</td>\n",
              "      <td>Material</td>\n",
              "      <td>Paper</td>\n",
              "      <td>19.0</td>\n",
              "      <td>Box</td>\n",
              "    </tr>\n",
              "    <tr>\n",
              "      <th>27361</th>\n",
              "      <td>Eco Friendly Disposable Plates</td>\n",
              "      <td>Paper Plate, Cups, Trays, Disposable Glasses, ...</td>\n",
              "      <td>9390</td>\n",
              "      <td>Disposable Plate</td>\n",
              "      <td>Size</td>\n",
              "      <td>4\" 6\" 8\"12\"</td>\n",
              "      <td>19.0</td>\n",
              "      <td>Box</td>\n",
              "    </tr>\n",
              "    <tr>\n",
              "      <th>27362</th>\n",
              "      <td>Eco Friendly Disposable Plates</td>\n",
              "      <td>Paper Plate, Cups, Trays, Disposable Glasses, ...</td>\n",
              "      <td>9390</td>\n",
              "      <td>Disposable Plate</td>\n",
              "      <td>Color</td>\n",
              "      <td>Mallti colour</td>\n",
              "      <td>19.0</td>\n",
              "      <td>Box</td>\n",
              "    </tr>\n",
              "    <tr>\n",
              "      <th>27363</th>\n",
              "      <td>Eco Friendly Disposable Plates</td>\n",
              "      <td>Paper Plate, Cups, Trays, Disposable Glasses, ...</td>\n",
              "      <td>9390</td>\n",
              "      <td>Disposable Plate</td>\n",
              "      <td>Brand</td>\n",
              "      <td>Vaibhav</td>\n",
              "      <td>19.0</td>\n",
              "      <td>Box</td>\n",
              "    </tr>\n",
              "    <tr>\n",
              "      <th>27364</th>\n",
              "      <td>Eco Friendly Disposable Plates</td>\n",
              "      <td>Paper Plate, Cups, Trays, Disposable Glasses, ...</td>\n",
              "      <td>9391</td>\n",
              "      <td>Eco-Friendly Leaf Plate</td>\n",
              "      <td>Size</td>\n",
              "      <td>4 to 12\"</td>\n",
              "      <td>1.2</td>\n",
              "      <td>Piece</td>\n",
              "    </tr>\n",
              "    <tr>\n",
              "      <th>27365</th>\n",
              "      <td>Eco Friendly Disposable Plates</td>\n",
              "      <td>Paper Plate, Cups, Trays, Disposable Glasses, ...</td>\n",
              "      <td>9391</td>\n",
              "      <td>Eco-Friendly Leaf Plate</td>\n",
              "      <td>Shape</td>\n",
              "      <td>Round and Square</td>\n",
              "      <td>1.2</td>\n",
              "      <td>Piece</td>\n",
              "    </tr>\n",
              "    <tr>\n",
              "      <th>27366</th>\n",
              "      <td>Eco Friendly Disposable Plates</td>\n",
              "      <td>Paper Plate, Cups, Trays, Disposable Glasses, ...</td>\n",
              "      <td>9392</td>\n",
              "      <td>Biodegradable Bagasse Square Tray</td>\n",
              "      <td>Shape</td>\n",
              "      <td>Square</td>\n",
              "      <td>5.0</td>\n",
              "      <td>Piece</td>\n",
              "    </tr>\n",
              "    <tr>\n",
              "      <th>27367</th>\n",
              "      <td>Eco Friendly Disposable Plates</td>\n",
              "      <td>Paper Plate, Cups, Trays, Disposable Glasses, ...</td>\n",
              "      <td>9392</td>\n",
              "      <td>Biodegradable Bagasse Square Tray</td>\n",
              "      <td>Usage/Application</td>\n",
              "      <td>Catering, Events, Restaurant Supplies</td>\n",
              "      <td>5.0</td>\n",
              "      <td>Piece</td>\n",
              "    </tr>\n",
              "    <tr>\n",
              "      <th>27368</th>\n",
              "      <td>Eco Friendly Disposable Plates</td>\n",
              "      <td>Paper Plate, Cups, Trays, Disposable Glasses, ...</td>\n",
              "      <td>9392</td>\n",
              "      <td>Biodegradable Bagasse Square Tray</td>\n",
              "      <td>Material</td>\n",
              "      <td>Bagasse</td>\n",
              "      <td>5.0</td>\n",
              "      <td>Piece</td>\n",
              "    </tr>\n",
              "    <tr>\n",
              "      <th>27369</th>\n",
              "      <td>Eco Friendly Disposable Plates</td>\n",
              "      <td>Paper Plate, Cups, Trays, Disposable Glasses, ...</td>\n",
              "      <td>9392</td>\n",
              "      <td>Biodegradable Bagasse Square Tray</td>\n",
              "      <td>Size</td>\n",
              "      <td>8 Inch</td>\n",
              "      <td>5.0</td>\n",
              "      <td>Piece</td>\n",
              "    </tr>\n",
              "    <tr>\n",
              "      <th>27370</th>\n",
              "      <td>Eco Friendly Disposable Plates</td>\n",
              "      <td>Paper Plate, Cups, Trays, Disposable Glasses, ...</td>\n",
              "      <td>9392</td>\n",
              "      <td>Biodegradable Bagasse Square Tray</td>\n",
              "      <td>Color</td>\n",
              "      <td>White</td>\n",
              "      <td>5.0</td>\n",
              "      <td>Piece</td>\n",
              "    </tr>\n",
              "    <tr>\n",
              "      <th>27371</th>\n",
              "      <td>Eco Friendly Disposable Plates</td>\n",
              "      <td>Paper Plate, Cups, Trays, Disposable Glasses, ...</td>\n",
              "      <td>9392</td>\n",
              "      <td>Biodegradable Bagasse Square Tray</td>\n",
              "      <td>Type</td>\n",
              "      <td>Plain</td>\n",
              "      <td>5.0</td>\n",
              "      <td>Piece</td>\n",
              "    </tr>\n",
              "  </tbody>\n",
              "</table>\n",
              "<p>27343 rows × 8 columns</p>\n",
              "</div>"
            ],
            "text/plain": [
              "                            Mcat Name  ... PC_ITEM_MOQ_UNIT_TYPE\n",
              "0                     HMI Touch Panel  ...                 Piece\n",
              "1                     HMI Touch Panel  ...                  Unit\n",
              "2                     HMI Touch Panel  ...                  Unit\n",
              "3                     HMI Touch Panel  ...                  Unit\n",
              "4                     HMI Touch Panel  ...                  Unit\n",
              "5                     HMI Touch Panel  ...                  Unit\n",
              "6                     HMI Touch Panel  ...                  Unit\n",
              "7                     HMI Touch Panel  ...                  Unit\n",
              "8                     HMI Touch Panel  ...                  Unit\n",
              "9                     HMI Touch Panel  ...                  Unit\n",
              "10                    HMI Touch Panel  ...                  Unit\n",
              "11                    HMI Touch Panel  ...                  Unit\n",
              "12                    HMI Touch Panel  ...                  Unit\n",
              "13                    HMI Touch Panel  ...                  Unit\n",
              "14                    HMI Touch Panel  ...                 Piece\n",
              "15                    HMI Touch Panel  ...                  Unit\n",
              "16                    HMI Touch Panel  ...                  Unit\n",
              "17                    HMI Touch Panel  ...                  Unit\n",
              "18                    HMI Touch Panel  ...             PER PIECE\n",
              "19                    HMI Touch Panel  ...             PER PIECE\n",
              "20                    HMI Touch Panel  ...             PER PIECE\n",
              "21                    HMI Touch Panel  ...             PER PIECE\n",
              "22                    HMI Touch Panel  ...             PER PIECE\n",
              "23                    HMI Touch Panel  ...                 Piece\n",
              "24                    HMI Touch Panel  ...                 Piece\n",
              "25                    HMI Touch Panel  ...                 Piece\n",
              "26                    HMI Touch Panel  ...                 Piece\n",
              "27                    HMI Touch Panel  ...                 Piece\n",
              "28                    HMI Touch Panel  ...                 Piece\n",
              "29                    HMI Touch Panel  ...                  Unit\n",
              "...                               ...  ...                   ...\n",
              "27342  Eco Friendly Disposable Plates  ...                 Piece\n",
              "27343  Eco Friendly Disposable Plates  ...                 Piece\n",
              "27344  Eco Friendly Disposable Plates  ...                 Piece\n",
              "27345  Eco Friendly Disposable Plates  ...                 Piece\n",
              "27346  Eco Friendly Disposable Plates  ...                 Piece\n",
              "27347  Eco Friendly Disposable Plates  ...                 Piece\n",
              "27348  Eco Friendly Disposable Plates  ...                 Piece\n",
              "27349  Eco Friendly Disposable Plates  ...                 Piece\n",
              "27350  Eco Friendly Disposable Plates  ...                 Piece\n",
              "27351  Eco Friendly Disposable Plates  ...                Packet\n",
              "27352  Eco Friendly Disposable Plates  ...                Packet\n",
              "27353  Eco Friendly Disposable Plates  ...                Packet\n",
              "27354  Eco Friendly Disposable Plates  ...                 Piece\n",
              "27355  Eco Friendly Disposable Plates  ...                 Piece\n",
              "27356  Eco Friendly Disposable Plates  ...                 Piece\n",
              "27357  Eco Friendly Disposable Plates  ...                 Piece\n",
              "27358  Eco Friendly Disposable Plates  ...                 Piece\n",
              "27359  Eco Friendly Disposable Plates  ...                 Piece\n",
              "27360  Eco Friendly Disposable Plates  ...                   Box\n",
              "27361  Eco Friendly Disposable Plates  ...                   Box\n",
              "27362  Eco Friendly Disposable Plates  ...                   Box\n",
              "27363  Eco Friendly Disposable Plates  ...                   Box\n",
              "27364  Eco Friendly Disposable Plates  ...                 Piece\n",
              "27365  Eco Friendly Disposable Plates  ...                 Piece\n",
              "27366  Eco Friendly Disposable Plates  ...                 Piece\n",
              "27367  Eco Friendly Disposable Plates  ...                 Piece\n",
              "27368  Eco Friendly Disposable Plates  ...                 Piece\n",
              "27369  Eco Friendly Disposable Plates  ...                 Piece\n",
              "27370  Eco Friendly Disposable Plates  ...                 Piece\n",
              "27371  Eco Friendly Disposable Plates  ...                 Piece\n",
              "\n",
              "[27343 rows x 8 columns]"
            ]
          },
          "metadata": {
            "tags": []
          },
          "execution_count": 5
        }
      ]
    },
    {
      "cell_type": "markdown",
      "metadata": {
        "id": "YnL8Q9rUJLc6",
        "colab_type": "text"
      },
      "source": [
        "----------------------------------------------------------------------------------------------------------------------------------------------------------\n",
        "**Method Applied for Outlier Detection**\n",
        "\n",
        "**Boosting method** with the data passed through **model 1** and the refined data from model 1 is refined further using **model 2**.\n",
        "\n",
        "Models used for refining:\n",
        "\n",
        "1.   **IQR(Inter-Quartile Range)** Method\n",
        "2.   **Isolation Forest** Method\n",
        "----------------------------------------------------------------------------------------------------------------------------------------------------------\n",
        "\n"
      ]
    },
    {
      "cell_type": "markdown",
      "metadata": {
        "id": "zYxCpmX989Je",
        "colab_type": "text"
      },
      "source": [
        "**Model 1**: Outlier Detection using **IQR**(Inter-Quartile Range) Method"
      ]
    },
    {
      "cell_type": "code",
      "metadata": {
        "id": "Kjs-YV9s9OlJ",
        "colab_type": "code",
        "colab": {}
      },
      "source": [
        "import numpy as np\n",
        "\n",
        "def outliers_iqr(ys):\n",
        "    quartile_1, quartile_3 = np.percentile(ys, [25, 75])\n",
        "    iqr = quartile_3 - quartile_1\n",
        "    lower_bound = quartile_1 - (iqr * 1.5)\n",
        "    upper_bound = quartile_3 + (iqr * 1.5)\n",
        "    result=[]\n",
        "    for i in ys:\n",
        "      if(i<=upper_bound and i>=lower_bound):\n",
        "        result.append(i)\n",
        "    return result    \n",
        "      "
      ],
      "execution_count": 0,
      "outputs": []
    },
    {
      "cell_type": "markdown",
      "metadata": {
        "id": "higVxIctLVWF",
        "colab_type": "text"
      },
      "source": [
        "**Model 2: Isolation Fores**t Method"
      ]
    },
    {
      "cell_type": "code",
      "metadata": {
        "id": "-TM52Sq9LJ4o",
        "colab_type": "code",
        "colab": {}
      },
      "source": [
        "#Isolation forest outlier detection\n",
        "from sklearn.ensemble import IsolationForest\n",
        "import pandas as pd\n",
        "\n",
        "def isolationForest(ys):\n",
        "  clf = IsolationForest(max_samples=100, random_state=42)\n",
        "\n",
        "  clf.fit(ys)\n",
        "  output_table =(clf.predict(ys))\n",
        "  c=0\n",
        "  result=[]\n",
        "  for i in output_table:\n",
        "    if(i!=-1):\n",
        "      result.append(ys[c,0])\n",
        "    c=c+1\n",
        "  return result\n",
        "#Predicting outliers using isolation forest"
      ],
      "execution_count": 0,
      "outputs": []
    },
    {
      "cell_type": "markdown",
      "metadata": {
        "id": "jxvrGkfU8UTH",
        "colab_type": "text"
      },
      "source": [
        "----------------------------------------------------------------------------------------------\n",
        " **MCAT-UNIT wise** **MIN-MAX price**  and   **MCAT - Unit - ISQ - ISQ Option** wise --- Min Max price \n",
        "\n",
        "---------------------------------------------------------------------------------------------"
      ]
    },
    {
      "cell_type": "code",
      "metadata": {
        "id": "VUX9Xf8gMrUT",
        "colab_type": "code",
        "colab": {
          "base_uri": "https://localhost:8080/",
          "height": 34
        },
        "outputId": "a696df53-e1f5-4adf-c32b-75ec38bba726"
      },
      "source": [
        "mcat=list(set(data[\"Mcat Name\"]))\n",
        "print(len(mcat))"
      ],
      "execution_count": 40,
      "outputs": [
        {
          "output_type": "stream",
          "text": [
            "100\n"
          ],
          "name": "stdout"
        }
      ]
    },
    {
      "cell_type": "code",
      "metadata": {
        "id": "1aCPpqRgAR1j",
        "colab_type": "code",
        "colab": {}
      },
      "source": [
        "mcat_isq=[]\n",
        "unit_isq=[]\n",
        "isq_name=[]\n",
        "isq_option=[]\n"
      ],
      "execution_count": 0,
      "outputs": []
    },
    {
      "cell_type": "code",
      "metadata": {
        "id": "o7Qh6kQIMjDC",
        "colab_type": "code",
        "colab": {}
      },
      "source": [
        "prices=[]"
      ],
      "execution_count": 0,
      "outputs": []
    },
    {
      "cell_type": "code",
      "metadata": {
        "id": "6XMKd9aAB-Ko",
        "colab_type": "code",
        "colab": {}
      },
      "source": [
        "isq_prices=[]"
      ],
      "execution_count": 0,
      "outputs": []
    },
    {
      "cell_type": "code",
      "metadata": {
        "id": "Zqi5h8T-CGLr",
        "colab_type": "code",
        "outputId": "456124d6-1d0b-4f4a-a84f-e587b98a7be9",
        "colab": {
          "base_uri": "https://localhost:8080/",
          "height": 153
        }
      },
      "source": [
        "for i in (mcat):\n",
        "  for k in list(set(data[data[\"Mcat Name\"]==i][\"PC_ITEM_MOQ_UNIT_TYPE\"])):\n",
        "    for l in (list(set(data[data[\"Mcat Name\"]==i][data[\"PC_ITEM_MOQ_UNIT_TYPE\"]==k][\"FK_IM_SPEC_MASTER_DESC\"]))):\n",
        "      for m in(list(set(data[data[\"Mcat Name\"]==i][data[\"PC_ITEM_MOQ_UNIT_TYPE\"]==k][data[\"FK_IM_SPEC_MASTER_DESC\"]==l][\"FK_IM_SPEC_OPTIONS_DESC\"]))):\n",
        "        isq_prices.append(list((data[data[\"Mcat Name\"]==i][data[\"PC_ITEM_MOQ_UNIT_TYPE\"]==k][data[\"FK_IM_SPEC_MASTER_DESC\"]==l][data[\"FK_IM_SPEC_OPTIONS_DESC\"]==m][\"PC_ITEM_FOB_PRICE\"])))\n",
        "        mcat_isq.append(i)\n",
        "        unit_isq.append(k)\n",
        "        isq_name.append(l)\n",
        "        isq_option.append(m)\n",
        "        prices.append(list(data[data[\"Mcat Name\"]==i][data[\"PC_ITEM_MOQ_UNIT_TYPE\"]==k][\"PC_ITEM_FOB_PRICE\"]))\n",
        "        \n",
        " "
      ],
      "execution_count": 18,
      "outputs": [
        {
          "output_type": "stream",
          "text": [
            "/usr/local/lib/python3.6/dist-packages/ipykernel_launcher.py:3: UserWarning: Boolean Series key will be reindexed to match DataFrame index.\n",
            "  This is separate from the ipykernel package so we can avoid doing imports until\n",
            "/usr/local/lib/python3.6/dist-packages/ipykernel_launcher.py:4: UserWarning: Boolean Series key will be reindexed to match DataFrame index.\n",
            "  after removing the cwd from sys.path.\n",
            "/usr/local/lib/python3.6/dist-packages/ipykernel_launcher.py:5: UserWarning: Boolean Series key will be reindexed to match DataFrame index.\n",
            "  \"\"\"\n",
            "/usr/local/lib/python3.6/dist-packages/ipykernel_launcher.py:10: UserWarning: Boolean Series key will be reindexed to match DataFrame index.\n",
            "  # Remove the CWD from sys.path while we load stuff.\n"
          ],
          "name": "stderr"
        }
      ]
    },
    {
      "cell_type": "code",
      "metadata": {
        "id": "WRH2WGDVEDWM",
        "colab_type": "code",
        "outputId": "e8328537-cee6-47d9-dda4-cbb07f57f641",
        "colab": {
          "base_uri": "https://localhost:8080/",
          "height": 34
        }
      },
      "source": [
        "len(isq_prices)"
      ],
      "execution_count": 19,
      "outputs": [
        {
          "output_type": "execute_result",
          "data": {
            "text/plain": [
              "15665"
            ]
          },
          "metadata": {
            "tags": []
          },
          "execution_count": 19
        }
      ]
    },
    {
      "cell_type": "code",
      "metadata": {
        "id": "QckHd6kOi217",
        "colab_type": "code",
        "outputId": "88e6813e-d049-4eaa-8720-5dfc276b7e04",
        "colab": {
          "base_uri": "https://localhost:8080/",
          "height": 34
        }
      },
      "source": [
        "len(prices)"
      ],
      "execution_count": 20,
      "outputs": [
        {
          "output_type": "execute_result",
          "data": {
            "text/plain": [
              "15665"
            ]
          },
          "metadata": {
            "tags": []
          },
          "execution_count": 20
        }
      ]
    },
    {
      "cell_type": "code",
      "metadata": {
        "id": "VE0GtgH0kZfP",
        "colab_type": "code",
        "colab": {}
      },
      "source": [
        "prices_refined1=[]\n",
        "prices_refined2=[]"
      ],
      "execution_count": 0,
      "outputs": []
    },
    {
      "cell_type": "code",
      "metadata": {
        "id": "R_XZ8ijXBqh0",
        "colab_type": "code",
        "colab": {}
      },
      "source": [
        "isq_prices_refined1=[]\n",
        "isq_prices_refined2=[]"
      ],
      "execution_count": 0,
      "outputs": []
    },
    {
      "cell_type": "markdown",
      "metadata": {
        "id": "uGdJ3IZ-fB1L",
        "colab_type": "text"
      },
      "source": [
        "**(Refined prices 1 ,Refined prices 2)  and (Refined Isq_prices 1 ,Refined Isq_prices 2) after passing the prices through model 1 and model 2 of Boosting**"
      ]
    },
    {
      "cell_type": "code",
      "metadata": {
        "id": "zONfOQrLNcOQ",
        "colab_type": "code",
        "colab": {}
      },
      "source": [
        "for i in prices:\n",
        "  prices_refined1.append(outliers_iqr((i)))\n",
        "  "
      ],
      "execution_count": 0,
      "outputs": []
    },
    {
      "cell_type": "code",
      "metadata": {
        "id": "yMW4wyFQKpST",
        "colab_type": "code",
        "colab": {}
      },
      "source": [
        "for i in isq_prices:\n",
        "  \n",
        "  isq_prices_refined1.append(outliers_iqr((i)))"
      ],
      "execution_count": 0,
      "outputs": []
    },
    {
      "cell_type": "code",
      "metadata": {
        "id": "qRwJQDNwlMMu",
        "colab_type": "code",
        "colab": {}
      },
      "source": [
        "\n",
        "for i in prices_refined1:\n",
        "  prices_refined2.append(isolationForest((np.asarray(i)).reshape(-1,1)))"
      ],
      "execution_count": 0,
      "outputs": []
    },
    {
      "cell_type": "code",
      "metadata": {
        "id": "3up4RlzX50uV",
        "colab_type": "code",
        "colab": {
          "base_uri": "https://localhost:8080/",
          "height": 34
        },
        "outputId": "c5c5f07a-aaf4-4d11-850b-63192a399047"
      },
      "source": [
        "len(prices_refined2)"
      ],
      "execution_count": 26,
      "outputs": [
        {
          "output_type": "execute_result",
          "data": {
            "text/plain": [
              "15665"
            ]
          },
          "metadata": {
            "tags": []
          },
          "execution_count": 26
        }
      ]
    },
    {
      "cell_type": "code",
      "metadata": {
        "id": "4ufAh9HSffCi",
        "colab_type": "code",
        "colab": {}
      },
      "source": [
        "for i in isq_prices_refined1:\n",
        "  isq_prices_refined2.append(isolationForest((np.asarray(i)).reshape(-1,1)))"
      ],
      "execution_count": 0,
      "outputs": []
    },
    {
      "cell_type": "code",
      "metadata": {
        "id": "YS4frX1nZkce",
        "colab_type": "code",
        "outputId": "545dfc60-8dcb-4df1-c217-28c321328455",
        "colab": {
          "base_uri": "https://localhost:8080/",
          "height": 34
        }
      },
      "source": [
        "len(isq_prices_refined2)"
      ],
      "execution_count": 28,
      "outputs": [
        {
          "output_type": "execute_result",
          "data": {
            "text/plain": [
              "15665"
            ]
          },
          "metadata": {
            "tags": []
          },
          "execution_count": 28
        }
      ]
    },
    {
      "cell_type": "code",
      "metadata": {
        "id": "criNpqpx6vEN",
        "colab_type": "code",
        "colab": {}
      },
      "source": [
        "price_max=[]\n",
        "price_min=[]"
      ],
      "execution_count": 0,
      "outputs": []
    },
    {
      "cell_type": "code",
      "metadata": {
        "id": "IQS_SUTIcRw5",
        "colab_type": "code",
        "colab": {}
      },
      "source": [
        "isq_price_max=[]\n",
        "isq_price_min=[]"
      ],
      "execution_count": 0,
      "outputs": []
    },
    {
      "cell_type": "code",
      "metadata": {
        "id": "n9kVqMGq68ZX",
        "colab_type": "code",
        "colab": {}
      },
      "source": [
        "for i in prices_refined2:\n",
        "  price_max.append(max(i))\n",
        "  price_min.append(min(i))"
      ],
      "execution_count": 0,
      "outputs": []
    },
    {
      "cell_type": "code",
      "metadata": {
        "id": "SOwjBxY2cFh5",
        "colab_type": "code",
        "colab": {}
      },
      "source": [
        "for i in isq_prices_refined2:\n",
        "  isq_price_max.append(max(i))\n",
        "  isq_price_min.append(min(i))"
      ],
      "execution_count": 0,
      "outputs": []
    },
    {
      "cell_type": "markdown",
      "metadata": {
        "id": "3CoZdKeB5YZ9",
        "colab_type": "text"
      },
      "source": [
        "------------------------------------------------------------------------------------------------\n",
        "**MCAT Unit wise ---- Three most common prices**\n",
        "\n",
        "------------------------------------------------------------------------------------------------"
      ]
    },
    {
      "cell_type": "code",
      "metadata": {
        "id": "QcPSNizJ5e3j",
        "colab_type": "code",
        "outputId": "977104c3-ff1f-4b53-f037-d486658da01b",
        "colab": {
          "base_uri": "https://localhost:8080/",
          "height": 34
        }
      },
      "source": [
        "len(prices_refined2)"
      ],
      "execution_count": 34,
      "outputs": [
        {
          "output_type": "execute_result",
          "data": {
            "text/plain": [
              "15665"
            ]
          },
          "metadata": {
            "tags": []
          },
          "execution_count": 34
        }
      ]
    },
    {
      "cell_type": "code",
      "metadata": {
        "id": "hTLYxSIxB9ou",
        "colab_type": "code",
        "colab": {}
      },
      "source": [
        "import collections\n",
        "def mostcommon(a):\n",
        "  counter=collections.Counter(a)\n",
        "  l=counter.most_common(3)\n",
        "  result=[]\n",
        "  for i in range(len(l)):\n",
        "    result.append(l[i][0])\n",
        "  for j in range(3-len(l)):\n",
        "    result.append(\"NULL\")\n",
        "  return result  \n",
        "  "
      ],
      "execution_count": 0,
      "outputs": []
    },
    {
      "cell_type": "code",
      "metadata": {
        "id": "YfD0lW6V7bl-",
        "colab_type": "code",
        "colab": {}
      },
      "source": [
        "most_common1=[]\n",
        "most_common2=[]\n",
        "most_common3=[]"
      ],
      "execution_count": 0,
      "outputs": []
    },
    {
      "cell_type": "code",
      "metadata": {
        "id": "RYD0iFPM5pf4",
        "colab_type": "code",
        "colab": {}
      },
      "source": [
        "for i in prices_refined2:\n",
        "  most_common1.append(mostcommon(i)[0])\n",
        "  most_common2.append(mostcommon(i)[1])\n",
        "  most_common3.append(mostcommon(i)[2])\n",
        "  "
      ],
      "execution_count": 0,
      "outputs": []
    },
    {
      "cell_type": "markdown",
      "metadata": {
        "id": "u8Ay8oyrN-7X",
        "colab_type": "text"
      },
      "source": [
        "-----------------------------------------------------------------------------------------------------------------------------------------\n",
        "**Final result Dataframe(containing all the required prices) is stored in csv format**\n",
        "\n",
        "------------------------------------------------------------------------------------------------------------------------------------------"
      ]
    },
    {
      "cell_type": "code",
      "metadata": {
        "id": "PoJh4f--8D3g",
        "colab_type": "code",
        "colab": {}
      },
      "source": [
        "final_result = pd.DataFrame({'MCAT Name':mcat_isq, 'Unit':unit_isq,'Unit wise Min Price':price_min,'Unit wise Max Price':price_max,'Most Common Price 1':most_common1,'Most Common Price 2':most_common2,'Most Common Price 3':most_common3,'ISQ Name':isq_name,'ISQ Options':isq_option,'ISQ Min Price':isq_price_min,'ISQ Max Price':isq_price_max}, columns=['MCAT Name', 'Unit','Unit wise Min Price','Unit wise Max Price','Most Common Price 1','Most Common Price 2','Most Common Price 3','ISQ Name','ISQ Options','ISQ Min Price','ISQ Max Price'])"
      ],
      "execution_count": 0,
      "outputs": []
    },
    {
      "cell_type": "code",
      "metadata": {
        "id": "whq9MFcAAtdT",
        "colab_type": "code",
        "colab": {}
      },
      "source": [
        "final_result.to_csv('gdrive/My Drive/ml_hack/IndiaMart/final_result.csv', index=False)"
      ],
      "execution_count": 0,
      "outputs": []
    }
  ]
}